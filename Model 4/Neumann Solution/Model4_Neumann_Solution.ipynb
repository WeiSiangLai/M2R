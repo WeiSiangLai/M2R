{
  "nbformat": 4,
  "nbformat_minor": 0,
  "metadata": {
    "colab": {
      "provenance": []
    },
    "kernelspec": {
      "name": "python3",
      "display_name": "Python 3"
    },
    "language_info": {
      "name": "python"
    }
  },
  "cells": [
    {
      "cell_type": "markdown",
      "source": [
        "(i) Find $η_L$ numerically, assuming $c_0 = \\sqrt{\\pi}$ and $β = 1$"
      ],
      "metadata": {
        "id": "v1XyZ47wFhua"
      }
    },
    {
      "cell_type": "code",
      "source": [
        "import numpy as np\n",
        "import matplotlib.pyplot as plt\n",
        "from scipy.special import erf"
      ],
      "metadata": {
        "id": "AbXhDBAJFdF7"
      },
      "execution_count": 2,
      "outputs": []
    },
    {
      "cell_type": "code",
      "source": [
        "def f(x):\n",
        "    \"\"\"\n",
        "    Function: f(x) = x - e^(-x^2)/erf(x)\n",
        "    We want to find the root where f(x) = 0\n",
        "    \"\"\"\n",
        "    return x - np.exp(-x**2) / erf(x)"
      ],
      "metadata": {
        "id": "Uw-BYkEbFs36"
      },
      "execution_count": 3,
      "outputs": []
    },
    {
      "cell_type": "code",
      "source": [
        "def df_dx(x):\n",
        "    \"\"\"\n",
        "    Derivative: f'(x) = 1 - d/dx[e^(-x^2)/erf(x)]\n",
        "    Using quotient rule: d/dx[u/v] = (v*u' - u*v')/v^2\n",
        "    where u = e^(-x^2), v = erf(x)\n",
        "    u' = -2x*e^(-x^2)\n",
        "    v' = (2/√π)*e^(-x^2)\n",
        "    \"\"\"\n",
        "    exp_term = np.exp(-x**2)\n",
        "    erf_term = erf(x)\n",
        "\n",
        "    # u = e^(-x^2), u' = -2x*e^(-x^2)\n",
        "    u = exp_term\n",
        "    u_prime = -2 * x * exp_term\n",
        "\n",
        "    # v = erf(x), v' = (2/√π)*e^(-x^2)\n",
        "    v = erf_term\n",
        "    v_prime = (2 / np.sqrt(np.pi)) * exp_term\n",
        "\n",
        "    # Quotient rule: (v*u' - u*v')/v^2\n",
        "    quotient_derivative = (v * u_prime - u * v_prime) / (v**2)\n",
        "\n",
        "    return 1 - quotient_derivative"
      ],
      "metadata": {
        "id": "T_qZAcWPGjBa"
      },
      "execution_count": 7,
      "outputs": []
    },
    {
      "cell_type": "code",
      "source": [
        "def newton_raphson(x0, tol=1e-10, max_iter=100):\n",
        "    x = x0\n",
        "\n",
        "    for i in range(max_iter):\n",
        "        fx = f(x)\n",
        "        dfx = df_dx(x)\n",
        "        x_new = x - fx / dfx\n",
        "        error = abs(x_new - x)\n",
        "\n",
        "        if error < tol:\n",
        "            print(f\"Root found: x = {x_new:.10f}\")\n",
        "            return x_new\n",
        "\n",
        "        x = x_new\n",
        "\n",
        "    raise ValueError(\"Maximum iterations reached! The method did not converge.\")"
      ],
      "metadata": {
        "id": "_5c8mtUrGr9p"
      },
      "execution_count": 10,
      "outputs": []
    },
    {
      "cell_type": "code",
      "source": [
        "x = newton_raphson(0.5)"
      ],
      "metadata": {
        "colab": {
          "base_uri": "https://localhost:8080/"
        },
        "id": "edVSYgjIHH0U",
        "outputId": "4e2db31b-8733-46e3-856d-e0f3b40b6f84"
      },
      "execution_count": 13,
      "outputs": [
        {
          "output_type": "stream",
          "name": "stdout",
          "text": [
            "Root found: x = 0.7677514365\n"
          ]
        }
      ]
    },
    {
      "cell_type": "markdown",
      "source": [
        "(ii) Plot of $L(t)$"
      ],
      "metadata": {
        "id": "mV5EK2I2HY7l"
      }
    },
    {
      "cell_type": "code",
      "source": [
        "# Time array\n",
        "t = np.linspace(0.1, 100, 100)\n",
        "\n",
        "# Calculate L(t) = 2x√t = 2√t (when x = 1)\n",
        "L_t = 2 * x * np.sqrt(t)\n",
        "\n",
        "# Create the main plot\n",
        "plt.figure(figsize=(12, 8))\n",
        "\n",
        "# Main plot: L(t) vs t\n",
        "plt.subplot(2, 2, 1)\n",
        "plt.plot(t, L_t)\n",
        "plt.xlabel('Time (t)', fontsize=12)\n",
        "plt.ylabel('Axon Length L(t)', fontsize=12)\n",
        "plt.title('Axon Length Growth: L(t) = 2$\\eta_L$√t, ')\n",
        "plt.grid()"
      ],
      "metadata": {
        "colab": {
          "base_uri": "https://localhost:8080/",
          "height": 388
        },
        "id": "74gMVk_RHLYu",
        "outputId": "b4c286fc-e17d-416d-cb21-eb8995080fd3"
      },
      "execution_count": 14,
      "outputs": [
        {
          "output_type": "display_data",
          "data": {
            "text/plain": [
              "<Figure size 1200x800 with 1 Axes>"
            ],
            "image/png": "[encoded data removed]"
          },
          "metadata": {}
        }
      ]
    },
    {
      "cell_type": "code",
      "source": [],
      "metadata": {
        "id": "K-5AFWY7HnH8"
      },
      "execution_count": null,
      "outputs": []
    }
  ]
}